{
  "nbformat": 4,
  "nbformat_minor": 0,
  "metadata": {
    "colab": {
      "name": "PandaTuts.ipynb",
      "provenance": [],
      "collapsed_sections": [],
      "authorship_tag": "ABX9TyM5UOrQ9b2g/bi8q2IncG0Q",
      "include_colab_link": true
    },
    "kernelspec": {
      "name": "python3",
      "display_name": "Python 3"
    },
    "language_info": {
      "name": "python"
    }
  },
  "cells": [
    {
      "cell_type": "markdown",
      "metadata": {
        "id": "view-in-github",
        "colab_type": "text"
      },
      "source": [
        "<a href=\"https://colab.research.google.com/github/Philngtn/Panda_tuts/blob/main/PandaTuts.ipynb\" target=\"_parent\"><img src=\"https://colab.research.google.com/assets/colab-badge.svg\" alt=\"Open In Colab\"/></a>"
      ]
    },
    {
      "cell_type": "markdown",
      "metadata": {
        "id": "yfWU9wtzG8dI"
      },
      "source": [
        "**Creating DataFrame**"
      ]
    },
    {
      "cell_type": "code",
      "metadata": {
        "colab": {
          "base_uri": "https://localhost:8080/",
          "height": 110
        },
        "id": "e3gaQtbRE3hW",
        "outputId": "9636e550-37c9-49e0-b396-da43ae450a7b"
      },
      "source": [
        "import pandas as pd\n",
        "import numpy as np\n",
        "\n",
        "\n",
        "arr_2 = np.random.randint(10,50, size=(2,3))\n",
        "df_1 = pd.DataFrame(arr_2, ['A', 'B'], ['C','D','E'])\n",
        "\n",
        "df_1"
      ],
      "execution_count": 153,
      "outputs": [
        {
          "output_type": "execute_result",
          "data": {
            "text/html": [
              "<div>\n",
              "<style scoped>\n",
              "    .dataframe tbody tr th:only-of-type {\n",
              "        vertical-align: middle;\n",
              "    }\n",
              "\n",
              "    .dataframe tbody tr th {\n",
              "        vertical-align: top;\n",
              "    }\n",
              "\n",
              "    .dataframe thead th {\n",
              "        text-align: right;\n",
              "    }\n",
              "</style>\n",
              "<table border=\"1\" class=\"dataframe\">\n",
              "  <thead>\n",
              "    <tr style=\"text-align: right;\">\n",
              "      <th></th>\n",
              "      <th>C</th>\n",
              "      <th>D</th>\n",
              "      <th>E</th>\n",
              "    </tr>\n",
              "  </thead>\n",
              "  <tbody>\n",
              "    <tr>\n",
              "      <th>A</th>\n",
              "      <td>43</td>\n",
              "      <td>31</td>\n",
              "      <td>23</td>\n",
              "    </tr>\n",
              "    <tr>\n",
              "      <th>B</th>\n",
              "      <td>35</td>\n",
              "      <td>49</td>\n",
              "      <td>20</td>\n",
              "    </tr>\n",
              "  </tbody>\n",
              "</table>\n",
              "</div>"
            ],
            "text/plain": [
              "    C   D   E\n",
              "A  43  31  23\n",
              "B  35  49  20"
            ]
          },
          "metadata": {
            "tags": []
          },
          "execution_count": 153
        }
      ]
    },
    {
      "cell_type": "code",
      "metadata": {
        "colab": {
          "base_uri": "https://localhost:8080/",
          "height": 172
        },
        "id": "Ko1GCag6Gvcu",
        "outputId": "f127a809-a7b0-43d5-cbf9-31cd20d13a05"
      },
      "source": [
        "dict_3 = {'one': pd.Series([1.,2.,3.], index=['a','b','c']), \n",
        "          'two': pd.Series([1.,2.,3.,4.], index=['a','b','c','d'])}\n",
        "\n",
        "df_2 = pd.DataFrame(dict_3)\n",
        "df_2\n"
      ],
      "execution_count": 154,
      "outputs": [
        {
          "output_type": "execute_result",
          "data": {
            "text/html": [
              "<div>\n",
              "<style scoped>\n",
              "    .dataframe tbody tr th:only-of-type {\n",
              "        vertical-align: middle;\n",
              "    }\n",
              "\n",
              "    .dataframe tbody tr th {\n",
              "        vertical-align: top;\n",
              "    }\n",
              "\n",
              "    .dataframe thead th {\n",
              "        text-align: right;\n",
              "    }\n",
              "</style>\n",
              "<table border=\"1\" class=\"dataframe\">\n",
              "  <thead>\n",
              "    <tr style=\"text-align: right;\">\n",
              "      <th></th>\n",
              "      <th>one</th>\n",
              "      <th>two</th>\n",
              "    </tr>\n",
              "  </thead>\n",
              "  <tbody>\n",
              "    <tr>\n",
              "      <th>a</th>\n",
              "      <td>1.0</td>\n",
              "      <td>1.0</td>\n",
              "    </tr>\n",
              "    <tr>\n",
              "      <th>b</th>\n",
              "      <td>2.0</td>\n",
              "      <td>2.0</td>\n",
              "    </tr>\n",
              "    <tr>\n",
              "      <th>c</th>\n",
              "      <td>3.0</td>\n",
              "      <td>3.0</td>\n",
              "    </tr>\n",
              "    <tr>\n",
              "      <th>d</th>\n",
              "      <td>NaN</td>\n",
              "      <td>4.0</td>\n",
              "    </tr>\n",
              "  </tbody>\n",
              "</table>\n",
              "</div>"
            ],
            "text/plain": [
              "   one  two\n",
              "a  1.0  1.0\n",
              "b  2.0  2.0\n",
              "c  3.0  3.0\n",
              "d  NaN  4.0"
            ]
          },
          "metadata": {
            "tags": []
          },
          "execution_count": 154
        }
      ]
    },
    {
      "cell_type": "code",
      "metadata": {
        "colab": {
          "base_uri": "https://localhost:8080/",
          "height": 142
        },
        "id": "7QWyG5WsGza4",
        "outputId": "e94171f5-65fe-4446-8bbf-e0c42e09f3e8"
      },
      "source": [
        "\n",
        "pd.DataFrame.from_dict(dict([('A',[1,2,3]),('B',[4,5,6])]))\n"
      ],
      "execution_count": 155,
      "outputs": [
        {
          "output_type": "execute_result",
          "data": {
            "text/html": [
              "<div>\n",
              "<style scoped>\n",
              "    .dataframe tbody tr th:only-of-type {\n",
              "        vertical-align: middle;\n",
              "    }\n",
              "\n",
              "    .dataframe tbody tr th {\n",
              "        vertical-align: top;\n",
              "    }\n",
              "\n",
              "    .dataframe thead th {\n",
              "        text-align: right;\n",
              "    }\n",
              "</style>\n",
              "<table border=\"1\" class=\"dataframe\">\n",
              "  <thead>\n",
              "    <tr style=\"text-align: right;\">\n",
              "      <th></th>\n",
              "      <th>A</th>\n",
              "      <th>B</th>\n",
              "    </tr>\n",
              "  </thead>\n",
              "  <tbody>\n",
              "    <tr>\n",
              "      <th>0</th>\n",
              "      <td>1</td>\n",
              "      <td>4</td>\n",
              "    </tr>\n",
              "    <tr>\n",
              "      <th>1</th>\n",
              "      <td>2</td>\n",
              "      <td>5</td>\n",
              "    </tr>\n",
              "    <tr>\n",
              "      <th>2</th>\n",
              "      <td>3</td>\n",
              "      <td>6</td>\n",
              "    </tr>\n",
              "  </tbody>\n",
              "</table>\n",
              "</div>"
            ],
            "text/plain": [
              "   A  B\n",
              "0  1  4\n",
              "1  2  5\n",
              "2  3  6"
            ]
          },
          "metadata": {
            "tags": []
          },
          "execution_count": 155
        }
      ]
    },
    {
      "cell_type": "code",
      "metadata": {
        "colab": {
          "base_uri": "https://localhost:8080/",
          "height": 110
        },
        "id": "oRYeeEIpG2uw",
        "outputId": "b9e033c5-3623-4dda-c67e-c26aba42f725"
      },
      "source": [
        "pd.DataFrame.from_dict(dict([('A',[1,2,3]),('B',[4,5,6])]), orient='index', columns=['one', 'two', 'three'])"
      ],
      "execution_count": 156,
      "outputs": [
        {
          "output_type": "execute_result",
          "data": {
            "text/html": [
              "<div>\n",
              "<style scoped>\n",
              "    .dataframe tbody tr th:only-of-type {\n",
              "        vertical-align: middle;\n",
              "    }\n",
              "\n",
              "    .dataframe tbody tr th {\n",
              "        vertical-align: top;\n",
              "    }\n",
              "\n",
              "    .dataframe thead th {\n",
              "        text-align: right;\n",
              "    }\n",
              "</style>\n",
              "<table border=\"1\" class=\"dataframe\">\n",
              "  <thead>\n",
              "    <tr style=\"text-align: right;\">\n",
              "      <th></th>\n",
              "      <th>one</th>\n",
              "      <th>two</th>\n",
              "      <th>three</th>\n",
              "    </tr>\n",
              "  </thead>\n",
              "  <tbody>\n",
              "    <tr>\n",
              "      <th>A</th>\n",
              "      <td>1</td>\n",
              "      <td>2</td>\n",
              "      <td>3</td>\n",
              "    </tr>\n",
              "    <tr>\n",
              "      <th>B</th>\n",
              "      <td>4</td>\n",
              "      <td>5</td>\n",
              "      <td>6</td>\n",
              "    </tr>\n",
              "  </tbody>\n",
              "</table>\n",
              "</div>"
            ],
            "text/plain": [
              "   one  two  three\n",
              "A    1    2      3\n",
              "B    4    5      6"
            ]
          },
          "metadata": {
            "tags": []
          },
          "execution_count": 156
        }
      ]
    },
    {
      "cell_type": "markdown",
      "metadata": {
        "id": "6aunGHsRHMUk"
      },
      "source": [
        "**Editing and Retrieving Data**"
      ]
    },
    {
      "cell_type": "code",
      "metadata": {
        "colab": {
          "base_uri": "https://localhost:8080/",
          "height": 760
        },
        "id": "WVLHizZyHQzc",
        "outputId": "09330465-3f66-48c3-841e-732ecdfa72f3"
      },
      "source": [
        "print(\"This is DF 1:\")\n",
        "print(df_1)\n",
        "print(\" \")\n",
        "df_1[['C','E']] # Take only 2 Column C and E and ALL row\n",
        "df_1.loc['A'] # Take row A\n",
        "df_1.iloc[1] # Take row 1 ('A')\n",
        "df_1.loc[['A','B'],['D','E']] # Take specific ROW and COL\n",
        "df_1['Total'] = df_1['C'] + df_1['E'] + df_1['D']\n",
        "print(\"This is DF 2:\")\n",
        "print(df_2)\n",
        "print(\" \")\n",
        "df_2['Mul'] = df_2['one'] * df_2['two']\n",
        "\n",
        "print(\"Adding new row to DF\")\n",
        "dict_2 = {'C': 44, 'D':45, 'E':46}\n",
        "new_row = pd.Series(dict_2, name = 'F')\n",
        "df_1 = df_1.append(new_row)\n",
        "print(df_1)\n",
        "print(\" \")\n",
        "\n",
        "print(\"Drop a column:\")\n",
        "df_1.drop('Total', axis=1, inplace=True)\n",
        "print(df_1)\n",
        "print(\" \")\n",
        "\n",
        "print(\"Drop a row:\")\n",
        "df_1.drop('B', axis=0, inplace=True)\n",
        "print(df_1)\n",
        "print(\" \")\n",
        "\n",
        "print(\"Modify the indexes:\")\n",
        "df_1['Sex'] = ['Men','Women']\n",
        "df_1.set_index('Sex',inplace=True)\n",
        "print(df_1)\n",
        "print(\" \")\n",
        "# df_1.reset_index(inplace=True)\n",
        "df_2.assign(Div=df_2['one']/df_2['two'])\n",
        "# Second way to add column\n",
        "df_2.assign(Div=lambda x: (x['one']/ x['two']))"
      ],
      "execution_count": 157,
      "outputs": [
        {
          "output_type": "stream",
          "text": [
            "This is DF 1:\n",
            "    C   D   E\n",
            "A  43  31  23\n",
            "B  35  49  20\n",
            " \n",
            "This is DF 2:\n",
            "   one  two\n",
            "a  1.0  1.0\n",
            "b  2.0  2.0\n",
            "c  3.0  3.0\n",
            "d  NaN  4.0\n",
            " \n",
            "Adding new row to DF\n",
            "      C     D     E  Total\n",
            "A  43.0  31.0  23.0   97.0\n",
            "B  35.0  49.0  20.0  104.0\n",
            "F  44.0  45.0  46.0    NaN\n",
            " \n",
            "Drop a column:\n",
            "      C     D     E\n",
            "A  43.0  31.0  23.0\n",
            "B  35.0  49.0  20.0\n",
            "F  44.0  45.0  46.0\n",
            " \n",
            "Drop a row:\n",
            "      C     D     E\n",
            "A  43.0  31.0  23.0\n",
            "F  44.0  45.0  46.0\n",
            " \n",
            "Modify the indexes:\n",
            "          C     D     E\n",
            "Sex                    \n",
            "Men    43.0  31.0  23.0\n",
            "Women  44.0  45.0  46.0\n",
            " \n"
          ],
          "name": "stdout"
        },
        {
          "output_type": "execute_result",
          "data": {
            "text/html": [
              "<div>\n",
              "<style scoped>\n",
              "    .dataframe tbody tr th:only-of-type {\n",
              "        vertical-align: middle;\n",
              "    }\n",
              "\n",
              "    .dataframe tbody tr th {\n",
              "        vertical-align: top;\n",
              "    }\n",
              "\n",
              "    .dataframe thead th {\n",
              "        text-align: right;\n",
              "    }\n",
              "</style>\n",
              "<table border=\"1\" class=\"dataframe\">\n",
              "  <thead>\n",
              "    <tr style=\"text-align: right;\">\n",
              "      <th></th>\n",
              "      <th>one</th>\n",
              "      <th>two</th>\n",
              "      <th>Mul</th>\n",
              "      <th>Div</th>\n",
              "    </tr>\n",
              "  </thead>\n",
              "  <tbody>\n",
              "    <tr>\n",
              "      <th>a</th>\n",
              "      <td>1.0</td>\n",
              "      <td>1.0</td>\n",
              "      <td>1.0</td>\n",
              "      <td>1.0</td>\n",
              "    </tr>\n",
              "    <tr>\n",
              "      <th>b</th>\n",
              "      <td>2.0</td>\n",
              "      <td>2.0</td>\n",
              "      <td>4.0</td>\n",
              "      <td>1.0</td>\n",
              "    </tr>\n",
              "    <tr>\n",
              "      <th>c</th>\n",
              "      <td>3.0</td>\n",
              "      <td>3.0</td>\n",
              "      <td>9.0</td>\n",
              "      <td>1.0</td>\n",
              "    </tr>\n",
              "    <tr>\n",
              "      <th>d</th>\n",
              "      <td>NaN</td>\n",
              "      <td>4.0</td>\n",
              "      <td>NaN</td>\n",
              "      <td>NaN</td>\n",
              "    </tr>\n",
              "  </tbody>\n",
              "</table>\n",
              "</div>"
            ],
            "text/plain": [
              "   one  two  Mul  Div\n",
              "a  1.0  1.0  1.0  1.0\n",
              "b  2.0  2.0  4.0  1.0\n",
              "c  3.0  3.0  9.0  1.0\n",
              "d  NaN  4.0  NaN  NaN"
            ]
          },
          "metadata": {
            "tags": []
          },
          "execution_count": 157
        }
      ]
    },
    {
      "cell_type": "code",
      "metadata": {
        "colab": {
          "base_uri": "https://localhost:8080/",
          "height": 172
        },
        "id": "OPxTkLYHe1Zt",
        "outputId": "407288df-d228-44a9-c528-abe1dbeec92e"
      },
      "source": [
        "# Remove np.nan in DF\n",
        "df_3 = pd.DataFrame({'A':[1.,np.nan, 3., np.nan]})\n",
        "df_4 = pd.DataFrame({'A':[1., 9., 2., 4.]})\n",
        "df_3.combine_first(df_4)"
      ],
      "execution_count": 158,
      "outputs": [
        {
          "output_type": "execute_result",
          "data": {
            "text/html": [
              "<div>\n",
              "<style scoped>\n",
              "    .dataframe tbody tr th:only-of-type {\n",
              "        vertical-align: middle;\n",
              "    }\n",
              "\n",
              "    .dataframe tbody tr th {\n",
              "        vertical-align: top;\n",
              "    }\n",
              "\n",
              "    .dataframe thead th {\n",
              "        text-align: right;\n",
              "    }\n",
              "</style>\n",
              "<table border=\"1\" class=\"dataframe\">\n",
              "  <thead>\n",
              "    <tr style=\"text-align: right;\">\n",
              "      <th></th>\n",
              "      <th>A</th>\n",
              "    </tr>\n",
              "  </thead>\n",
              "  <tbody>\n",
              "    <tr>\n",
              "      <th>0</th>\n",
              "      <td>1.0</td>\n",
              "    </tr>\n",
              "    <tr>\n",
              "      <th>1</th>\n",
              "      <td>9.0</td>\n",
              "    </tr>\n",
              "    <tr>\n",
              "      <th>2</th>\n",
              "      <td>3.0</td>\n",
              "    </tr>\n",
              "    <tr>\n",
              "      <th>3</th>\n",
              "      <td>4.0</td>\n",
              "    </tr>\n",
              "  </tbody>\n",
              "</table>\n",
              "</div>"
            ],
            "text/plain": [
              "     A\n",
              "0  1.0\n",
              "1  9.0\n",
              "2  3.0\n",
              "3  4.0"
            ]
          },
          "metadata": {
            "tags": []
          },
          "execution_count": 158
        }
      ]
    },
    {
      "cell_type": "markdown",
      "metadata": {
        "id": "-xTyHucXfLqg"
      },
      "source": [
        "**Conditional Selection**"
      ]
    },
    {
      "cell_type": "code",
      "metadata": {
        "colab": {
          "base_uri": "https://localhost:8080/",
          "height": 382
        },
        "id": "GB98AKnxfLJk",
        "outputId": "5657ccc3-f6c0-47df-a035-eb42e20f068d"
      },
      "source": [
        "arr_2 = np.random.randint(10,50, size=(2,3))\n",
        "df_1 = pd.DataFrame(arr_2, ['A','B'], ['C','D','E'])\n",
        "print(df_1)\n",
        "print(\" \")\n",
        "# gt lt le eq ne ge\n",
        "print(\"Greater than 40 \\n\", df_1.gt(40.0))\n",
        "print(\" \")\n",
        "bool_1 = df_1 >= 45.0\n",
        "df_1[bool_1]\n",
        "df_1['E'] > 40\n",
        "# Return a row if a column matches the condition (show row which has column E gt 30)\n",
        "# We stack up DF\n",
        "df_1[df_1['E'] > 30]\n",
        "\n",
        "# Take the value at the column C of the DF has the row where its column E's value gt 30\n",
        "df_2 = df_1[df_1['E']>30]\n",
        "df_2['C'] \n",
        "# Take the value at the colum C, D of the DF which has the row where its column E's value gt 20\n",
        "\n",
        "print(df_1[df_1['E']> 20][['C','D']])\n",
        "print(\" \")\n",
        "arr_3 = np.array([[1,2,3],[4,5,6],[7,8,9]])\n",
        "df_2 = pd.DataFrame(arr_3, ['A', 'B', 'C'], ['X','Y','Z'])\n",
        "print(df_2)\n",
        "print(\" \")\n",
        "# Take the row where its value in column X less 7 and greater than 3\n",
        "df_2[(df_2['X']>3) & (df_2['X']<7)]"
      ],
      "execution_count": 159,
      "outputs": [
        {
          "output_type": "stream",
          "text": [
            "    C   D   E\n",
            "A  49  19  46\n",
            "B  17  22  35\n",
            " \n",
            "Greater than 40 \n",
            "        C      D      E\n",
            "A   True  False   True\n",
            "B  False  False  False\n",
            " \n",
            "    C   D\n",
            "A  49  19\n",
            "B  17  22\n",
            " \n",
            "   X  Y  Z\n",
            "A  1  2  3\n",
            "B  4  5  6\n",
            "C  7  8  9\n",
            " \n"
          ],
          "name": "stdout"
        },
        {
          "output_type": "execute_result",
          "data": {
            "text/html": [
              "<div>\n",
              "<style scoped>\n",
              "    .dataframe tbody tr th:only-of-type {\n",
              "        vertical-align: middle;\n",
              "    }\n",
              "\n",
              "    .dataframe tbody tr th {\n",
              "        vertical-align: top;\n",
              "    }\n",
              "\n",
              "    .dataframe thead th {\n",
              "        text-align: right;\n",
              "    }\n",
              "</style>\n",
              "<table border=\"1\" class=\"dataframe\">\n",
              "  <thead>\n",
              "    <tr style=\"text-align: right;\">\n",
              "      <th></th>\n",
              "      <th>X</th>\n",
              "      <th>Y</th>\n",
              "      <th>Z</th>\n",
              "    </tr>\n",
              "  </thead>\n",
              "  <tbody>\n",
              "    <tr>\n",
              "      <th>B</th>\n",
              "      <td>4</td>\n",
              "      <td>5</td>\n",
              "      <td>6</td>\n",
              "    </tr>\n",
              "  </tbody>\n",
              "</table>\n",
              "</div>"
            ],
            "text/plain": [
              "   X  Y  Z\n",
              "B  4  5  6"
            ]
          },
          "metadata": {
            "tags": []
          },
          "execution_count": 159
        }
      ]
    },
    {
      "cell_type": "code",
      "metadata": {
        "id": "XdPYZlB7m6rq"
      },
      "source": [
        "df_5 = pd.DataFrame({'id':[1,2,3,4,5,6], 'Name':['John','sd', 'Son','Mai','Lam','Cuc'], \n",
        "                     'Valid':[True, False,True, False,False,True]})\n",
        "df_6 = pd.DataFrame({'id':[1,2,3,4,5,6], 'Pass':['213','w', 'Ssdon','Maggi','Lytam','Cbuc']})\n",
        "\n",
        "print(df_5)\n",
        "print(\"\")\n",
        "print(df_6)\n",
        "print(\"\")\n",
        "df_7 = df_6[df_6['id'] == df_5['id']][['Pass']]\n",
        "print(df_7)\n",
        "print(\"\")\n",
        "df_5.drop('Valid', axis=1, inplace=True)\n",
        "print(df_5)\n",
        "print(\"\")\n",
        "df_5['Pass']=df_7\n",
        "print(df_5)\n",
        "print(\"\")"
      ],
      "execution_count": null,
      "outputs": []
    },
    {
      "cell_type": "markdown",
      "metadata": {
        "id": "CQs8yC9Mr8mI"
      },
      "source": [
        "**File INPUT/OUTPUT**"
      ]
    },
    {
      "cell_type": "code",
      "metadata": {
        "colab": {
          "base_uri": "https://localhost:8080/"
        },
        "id": "MGnsqIIfsJKf",
        "outputId": "dde7df6c-15e1-4089-a00a-3be073c468c6"
      },
      "source": [
        "!pip install pymysql"
      ],
      "execution_count": 2,
      "outputs": [
        {
          "output_type": "stream",
          "text": [
            "Collecting pymysql\n",
            "  Downloading PyMySQL-1.0.2-py3-none-any.whl (43 kB)\n",
            "\u001b[?25l\r\u001b[K     |███████▌                        | 10 kB 21.8 MB/s eta 0:00:01\r\u001b[K     |███████████████                 | 20 kB 9.8 MB/s eta 0:00:01\r\u001b[K     |██████████████████████▍         | 30 kB 8.3 MB/s eta 0:00:01\r\u001b[K     |██████████████████████████████  | 40 kB 7.7 MB/s eta 0:00:01\r\u001b[K     |████████████████████████████████| 43 kB 919 kB/s \n",
            "\u001b[?25hInstalling collected packages: pymysql\n",
            "Successfully installed pymysql-1.0.2\n"
          ],
          "name": "stdout"
        }
      ]
    },
    {
      "cell_type": "code",
      "metadata": {
        "id": "kQ68BE0EsAme"
      },
      "source": [
        "import pymysql\n",
        "import numpy as np\n",
        "import pandas as pd\n",
        "\n",
        "cs_df = pd.read_csv('ComputerSales.csv')\n",
        "cs_df[:6:2]\n",
        "\n",
        "\n",
        "dict_3 = {'one':pd.Series([1.,2.,3.], index=list('abc')), 'two':pd.Series([1.,2.,3.,4.], index=list('abcd'))}\n",
        "df_2 = pd.DataFrame(dict_3)\n",
        "df_2\n",
        "\n",
        "print(df_2.fillna(0,inplace=True))\n",
        "print(df_2)\n",
        "\n",
        "row = df_2.iloc[1]\n",
        "# Adding value of row 1 to the whole DF\n",
        "df_2.add(row, axis='columns')\n",
        "df_2.empty\n",
        "\n",
        "df_5 = pd.DataFrame({'A':range(3), 'B':range(1,4)})\n",
        "df_5.transform([lambda x: x**2, lambda x:x**3])\n",
        "\n",
        "df_5.transform({'A':lambda x:x**2, 'B':lambda x:x**3})\n",
        "df_5.applymap(lambda x:x**2)\n",
        "\n",
        "# Total number of unique \n",
        "df_2['two'].nunique()\n",
        "\n",
        "df_2['two'].value_counts()\n",
        "df_2.columns\n",
        "\n",
        "df_2.isnull()"
      ],
      "execution_count": null,
      "outputs": []
    },
    {
      "cell_type": "markdown",
      "metadata": {
        "id": "mMQIE3ZRnPkW"
      },
      "source": [
        "**Group Data**"
      ]
    },
    {
      "cell_type": "code",
      "metadata": {
        "colab": {
          "base_uri": "https://localhost:8080/",
          "height": 172
        },
        "id": "Sb0J3xrhnPAj",
        "outputId": "e3465bd2-b234-48af-9337-8a52b55682b4"
      },
      "source": [
        "dict_5 = {'Store':[1,2,1,2], 'Flavor':['Choc','Van','Straw','Choc'],\n",
        "          'Sale': [26,12,18,22]}\n",
        "\n",
        "df_11 = pd.DataFrame(dict_5) \n",
        "\n",
        "by_store = df_11.groupby('Store')\n",
        "by_store.mean()\n",
        "by_store.sum().loc[1]\n",
        "by_store.describe()"
      ],
      "execution_count": 23,
      "outputs": [
        {
          "output_type": "execute_result",
          "data": {
            "text/html": [
              "<div>\n",
              "<style scoped>\n",
              "    .dataframe tbody tr th:only-of-type {\n",
              "        vertical-align: middle;\n",
              "    }\n",
              "\n",
              "    .dataframe tbody tr th {\n",
              "        vertical-align: top;\n",
              "    }\n",
              "\n",
              "    .dataframe thead tr th {\n",
              "        text-align: left;\n",
              "    }\n",
              "\n",
              "    .dataframe thead tr:last-of-type th {\n",
              "        text-align: right;\n",
              "    }\n",
              "</style>\n",
              "<table border=\"1\" class=\"dataframe\">\n",
              "  <thead>\n",
              "    <tr>\n",
              "      <th></th>\n",
              "      <th colspan=\"8\" halign=\"left\">Sale</th>\n",
              "    </tr>\n",
              "    <tr>\n",
              "      <th></th>\n",
              "      <th>count</th>\n",
              "      <th>mean</th>\n",
              "      <th>std</th>\n",
              "      <th>min</th>\n",
              "      <th>25%</th>\n",
              "      <th>50%</th>\n",
              "      <th>75%</th>\n",
              "      <th>max</th>\n",
              "    </tr>\n",
              "    <tr>\n",
              "      <th>Store</th>\n",
              "      <th></th>\n",
              "      <th></th>\n",
              "      <th></th>\n",
              "      <th></th>\n",
              "      <th></th>\n",
              "      <th></th>\n",
              "      <th></th>\n",
              "      <th></th>\n",
              "    </tr>\n",
              "  </thead>\n",
              "  <tbody>\n",
              "    <tr>\n",
              "      <th>1</th>\n",
              "      <td>2.0</td>\n",
              "      <td>22.0</td>\n",
              "      <td>5.656854</td>\n",
              "      <td>18.0</td>\n",
              "      <td>20.0</td>\n",
              "      <td>22.0</td>\n",
              "      <td>24.0</td>\n",
              "      <td>26.0</td>\n",
              "    </tr>\n",
              "    <tr>\n",
              "      <th>2</th>\n",
              "      <td>2.0</td>\n",
              "      <td>17.0</td>\n",
              "      <td>7.071068</td>\n",
              "      <td>12.0</td>\n",
              "      <td>14.5</td>\n",
              "      <td>17.0</td>\n",
              "      <td>19.5</td>\n",
              "      <td>22.0</td>\n",
              "    </tr>\n",
              "  </tbody>\n",
              "</table>\n",
              "</div>"
            ],
            "text/plain": [
              "       Sale                                              \n",
              "      count  mean       std   min   25%   50%   75%   max\n",
              "Store                                                    \n",
              "1       2.0  22.0  5.656854  18.0  20.0  22.0  24.0  26.0\n",
              "2       2.0  17.0  7.071068  12.0  14.5  17.0  19.5  22.0"
            ]
          },
          "metadata": {
            "tags": []
          },
          "execution_count": 23
        }
      ]
    },
    {
      "cell_type": "markdown",
      "metadata": {
        "id": "uCDPJtgcuurD"
      },
      "source": [
        "**Concatenate Merge and Join Data**"
      ]
    },
    {
      "cell_type": "code",
      "metadata": {
        "colab": {
          "base_uri": "https://localhost:8080/",
          "height": 203
        },
        "id": "ROM2s-y3u0z8",
        "outputId": "5b453732-8af6-49fe-cb57-8cd08cc6c901"
      },
      "source": [
        "df_12 = pd.DataFrame({'A': [1,2,3], \n",
        "                      'B': [4,5,6]},\n",
        "                      index=[1,2,3])\n",
        "df_13 = pd.DataFrame({'A': [7,8,9], \n",
        "                      'B': [10,11,12]},\n",
        "                      index=[1,2,3])\n",
        "\n",
        "pd.concat([df_12,df_13])\n",
        "\n",
        "df_12 = pd.DataFrame({'A': [1,2,3], \n",
        "                      'B': [4,5,6],\n",
        "                      'key':[1,2,3]})\n",
        "df_13 = pd.DataFrame({'A': [7,8,9], \n",
        "                      'B': [10,11,12],\n",
        "                      'key':[1,2,3]})\n",
        "\n",
        "\n",
        "pd.merge(df_12, df_13, how='inner', on='key')\n",
        "\n",
        "df_12 = pd.DataFrame({'A': [1,2,3], \n",
        "                      'B': [4,5,6]},\n",
        "                      index=[1,2,3])\n",
        "df_13 = pd.DataFrame({'C': [7,8,9], \n",
        "                      'D': [10,11,12]},\n",
        "                      index=[1,4,5])\n",
        "\n",
        "df_12.join(df_13, how='outer')\n",
        "\n"
      ],
      "execution_count": 34,
      "outputs": [
        {
          "output_type": "execute_result",
          "data": {
            "text/html": [
              "<div>\n",
              "<style scoped>\n",
              "    .dataframe tbody tr th:only-of-type {\n",
              "        vertical-align: middle;\n",
              "    }\n",
              "\n",
              "    .dataframe tbody tr th {\n",
              "        vertical-align: top;\n",
              "    }\n",
              "\n",
              "    .dataframe thead th {\n",
              "        text-align: right;\n",
              "    }\n",
              "</style>\n",
              "<table border=\"1\" class=\"dataframe\">\n",
              "  <thead>\n",
              "    <tr style=\"text-align: right;\">\n",
              "      <th></th>\n",
              "      <th>A</th>\n",
              "      <th>B</th>\n",
              "      <th>C</th>\n",
              "      <th>D</th>\n",
              "    </tr>\n",
              "  </thead>\n",
              "  <tbody>\n",
              "    <tr>\n",
              "      <th>1</th>\n",
              "      <td>1.0</td>\n",
              "      <td>4.0</td>\n",
              "      <td>7.0</td>\n",
              "      <td>10.0</td>\n",
              "    </tr>\n",
              "    <tr>\n",
              "      <th>2</th>\n",
              "      <td>2.0</td>\n",
              "      <td>5.0</td>\n",
              "      <td>NaN</td>\n",
              "      <td>NaN</td>\n",
              "    </tr>\n",
              "    <tr>\n",
              "      <th>3</th>\n",
              "      <td>3.0</td>\n",
              "      <td>6.0</td>\n",
              "      <td>NaN</td>\n",
              "      <td>NaN</td>\n",
              "    </tr>\n",
              "    <tr>\n",
              "      <th>4</th>\n",
              "      <td>NaN</td>\n",
              "      <td>NaN</td>\n",
              "      <td>8.0</td>\n",
              "      <td>11.0</td>\n",
              "    </tr>\n",
              "    <tr>\n",
              "      <th>5</th>\n",
              "      <td>NaN</td>\n",
              "      <td>NaN</td>\n",
              "      <td>9.0</td>\n",
              "      <td>12.0</td>\n",
              "    </tr>\n",
              "  </tbody>\n",
              "</table>\n",
              "</div>"
            ],
            "text/plain": [
              "     A    B    C     D\n",
              "1  1.0  4.0  7.0  10.0\n",
              "2  2.0  5.0  NaN   NaN\n",
              "3  3.0  6.0  NaN   NaN\n",
              "4  NaN  NaN  8.0  11.0\n",
              "5  NaN  NaN  9.0  12.0"
            ]
          },
          "metadata": {
            "tags": []
          },
          "execution_count": 34
        }
      ]
    },
    {
      "cell_type": "markdown",
      "metadata": {
        "id": "khz5EB7exYI8"
      },
      "source": [
        "**Statistics**"
      ]
    },
    {
      "cell_type": "code",
      "metadata": {
        "id": "uutj67kIxaCk"
      },
      "source": [
        "ics_df = pd.read_csv('icecreamsales.csv')\n",
        "ics_df\n",
        "# See howmany obs\n",
        "ics_df.count()\n",
        "\n",
        "# Sum the value\n",
        "ics_df.sum(skipna=True)\n",
        "print(ics_df)\n",
        "ics_df['Sales'].cumsum()\n"
      ],
      "execution_count": null,
      "outputs": []
    },
    {
      "cell_type": "markdown",
      "metadata": {
        "id": "w-jOyX2X0U1u"
      },
      "source": [
        "**Iteration**"
      ]
    },
    {
      "cell_type": "code",
      "metadata": {
        "colab": {
          "base_uri": "https://localhost:8080/"
        },
        "id": "trDxCE650Xhp",
        "outputId": "1da681f7-5bae-4815-c5c1-e7b48db1cc4e"
      },
      "source": [
        "ser_7 = pd.Series(range(5), index=list('abcde'))\n",
        "arr_4 = np.random.randint(10,50, size=(2,3))\n",
        "df_8 = pd.DataFrame(arr_4, list('BC'),list('CDE'))\n",
        "print(df_8)\n",
        "print()\n",
        "\n",
        "# for col in ser_7:\n",
        "#   print(col)\n",
        "\n",
        "for label, ser in df_8.items():\n",
        "  print(label)\n",
        "  print(ser)\n",
        "\n",
        "print()\n",
        "\n",
        "for index, row in df_8.iterrows():\n",
        "  print(f\"{index}\\n{row}\")\n",
        "\n",
        "print()\n",
        "\n",
        "for row in df_8.itertuples():\n",
        "  print(row)"
      ],
      "execution_count": 73,
      "outputs": [
        {
          "output_type": "stream",
          "text": [
            "    C   D   E\n",
            "B  28  30  16\n",
            "C  22  29  35\n",
            "\n",
            "C\n",
            "B    28\n",
            "C    22\n",
            "Name: C, dtype: int64\n",
            "D\n",
            "B    30\n",
            "C    29\n",
            "Name: D, dtype: int64\n",
            "E\n",
            "B    16\n",
            "C    35\n",
            "Name: E, dtype: int64\n",
            "\n",
            "B\n",
            "C    28\n",
            "D    30\n",
            "E    16\n",
            "Name: B, dtype: int64\n",
            "C\n",
            "C    22\n",
            "D    29\n",
            "E    35\n",
            "Name: C, dtype: int64\n",
            "\n",
            "Pandas(Index='B', C=28, D=30, E=16)\n",
            "Pandas(Index='C', C=22, D=29, E=35)\n"
          ],
          "name": "stdout"
        }
      ]
    },
    {
      "cell_type": "markdown",
      "metadata": {
        "id": "rw48dvHnA2RU"
      },
      "source": [
        "**SORTING**"
      ]
    },
    {
      "cell_type": "code",
      "metadata": {
        "id": "h8XLYCOOA15P"
      },
      "source": [
        "print(df_8)\n",
        "df_8.sort_index(ascending=False)\n",
        "df_8.sort_values(by='D')"
      ],
      "execution_count": null,
      "outputs": []
    },
    {
      "cell_type": "markdown",
      "metadata": {
        "id": "NQCy2GjYwj_8"
      },
      "source": [
        "**Manipulate Function**"
      ]
    },
    {
      "cell_type": "code",
      "metadata": {
        "id": "YKt_2azawmXh"
      },
      "source": [
        "import sys\n",
        "import pandas as pd\n",
        "import numpy as np\n",
        "\n",
        "cs_df = pd.read_csv(\"ComputerSales.csv\")\n",
        "\n",
        "def get_profit_total(df):\n",
        "  prof_ser = df['Profit']\n",
        "  print(f\"Total Profit : {prof_ser.sum()}\")\n",
        "\n",
        "get_profit_total(cs_df)\n",
        "\n",
        "def split_name(df):\n",
        "  def get_names(full_name):\n",
        "    f_name, l_name = full_name.split()\n",
        "    return pd.Series(\n",
        "        (f_name,l_name), index=(['First Name','Last Name'])\n",
        "    )\n",
        "\n",
        "  names = df['Contact'].apply(get_names)\n",
        "  df[names.columns] = names\n",
        "  return df\n",
        "\n",
        "split_name(cs_df).head()\n",
        "\n",
        "def create_age_groups(df):\n",
        "  bins = [0, 30, 50, sys.maxsize]\n",
        "  labels = ['<30','30-50','>50']\n",
        "  age_group = pd.cut(df['Age'], bins=bins, labels=labels)\n",
        "  df['Age Group'] = age_group\n",
        "  return df\n",
        "\n",
        "create_age_groups(cs_df).head()\n",
        "\n",
        "cs_df.pipe(split_name).pipe(create_age_groups).head()\n"
      ],
      "execution_count": null,
      "outputs": []
    },
    {
      "cell_type": "markdown",
      "metadata": {
        "id": "p1eiBAKOzWrY"
      },
      "source": [
        "**Aligning, Reindexing, and Renameing Labels**"
      ]
    },
    {
      "cell_type": "code",
      "metadata": {
        "colab": {
          "base_uri": "https://localhost:8080/",
          "height": 377
        },
        "id": "Bb_j-lHEzcmV",
        "outputId": "dc2c64c2-7b6b-4b7d-d38b-4c4bf97a03f0"
      },
      "source": [
        "import sys\n",
        "import pandas as pd\n",
        "import numpy as np\n",
        "\n",
        "ser_6 = pd.Series(range(5), index=list('abcde'))\n",
        "sl_1 = ser_6[:4]\n",
        "sl_2 = ser_6[1:]\n",
        "print(sl_1)\n",
        "print(sl_2)\n",
        "print()\n",
        "sl_1.align(sl_2, join='inner')\n",
        "\n",
        "# Renaming\n",
        "arr_3 = np.random.randint(10,50, size=(2,3))\n",
        "df_6 = pd.DataFrame(arr_3, ['A','B'], ['C','D','E'])\n",
        "print(df_6)\n",
        "df_6['Sex'] = ['Man','Woman']\n",
        "df_6.set_index('Sex', inplace=True)\n",
        "\n",
        "df_6.rename(columns={'C':'CHICKENS', 'D':'DUCKS','E':'DOGS'})"
      ],
      "execution_count": 19,
      "outputs": [
        {
          "output_type": "stream",
          "text": [
            "a    0\n",
            "b    1\n",
            "c    2\n",
            "d    3\n",
            "dtype: int64\n",
            "b    1\n",
            "c    2\n",
            "d    3\n",
            "e    4\n",
            "dtype: int64\n",
            "\n",
            "    C   D   E\n",
            "A  39  48  42\n",
            "B  37  42  39\n"
          ],
          "name": "stdout"
        },
        {
          "output_type": "execute_result",
          "data": {
            "text/html": [
              "<div>\n",
              "<style scoped>\n",
              "    .dataframe tbody tr th:only-of-type {\n",
              "        vertical-align: middle;\n",
              "    }\n",
              "\n",
              "    .dataframe tbody tr th {\n",
              "        vertical-align: top;\n",
              "    }\n",
              "\n",
              "    .dataframe thead th {\n",
              "        text-align: right;\n",
              "    }\n",
              "</style>\n",
              "<table border=\"1\" class=\"dataframe\">\n",
              "  <thead>\n",
              "    <tr style=\"text-align: right;\">\n",
              "      <th></th>\n",
              "      <th>CHICKENS</th>\n",
              "      <th>DUCKS</th>\n",
              "      <th>DOGS</th>\n",
              "    </tr>\n",
              "    <tr>\n",
              "      <th>Sex</th>\n",
              "      <th></th>\n",
              "      <th></th>\n",
              "      <th></th>\n",
              "    </tr>\n",
              "  </thead>\n",
              "  <tbody>\n",
              "    <tr>\n",
              "      <th>Man</th>\n",
              "      <td>39</td>\n",
              "      <td>48</td>\n",
              "      <td>42</td>\n",
              "    </tr>\n",
              "    <tr>\n",
              "      <th>Woman</th>\n",
              "      <td>37</td>\n",
              "      <td>42</td>\n",
              "      <td>39</td>\n",
              "    </tr>\n",
              "  </tbody>\n",
              "</table>\n",
              "</div>"
            ],
            "text/plain": [
              "       CHICKENS  DUCKS  DOGS\n",
              "Sex                         \n",
              "Man          39     48    42\n",
              "Woman        37     42    39"
            ]
          },
          "metadata": {
            "tags": []
          },
          "execution_count": 19
        }
      ]
    },
    {
      "cell_type": "markdown",
      "metadata": {
        "id": "fadu2V_OalkX"
      },
      "source": [
        "**MultiIndex**"
      ]
    },
    {
      "cell_type": "code",
      "metadata": {
        "colab": {
          "base_uri": "https://localhost:8080/",
          "height": 259
        },
        "id": "jtFMnSiFWo0i",
        "outputId": "7d65f7eb-efbc-4c3f-8d26-3b434d0948b4"
      },
      "source": [
        "days = ['Day 1', 'Day 1', 'Day 1', 'Day 2', 'Day 2', 'Day 2' ]\n",
        "meals = [1,2,3,1,2,3]\n",
        "hier_index = list(zip(days,meals))\n",
        "# Create a tuble \n",
        "# print(hier_index)\n",
        "\n",
        "hier_index = pd.MultiIndex.from_tuples(hier_index)\n",
        "arr_5 = np.random.randint(400, 700, size=(6,1))\n",
        "arr_6 = np.random.randint(100, 200, size=(6,1))\n",
        "\n",
        "df_9 = pd.DataFrame(np.concatenate([arr_5,arr_6], axis=1), hier_index, ['Man', 'Woman'])\n",
        "print(df_9)\n",
        "\n",
        "df_9.loc['Day 2'].loc[2]['Woman']\n",
        "df_9.index.names = ['Day', 'Meal']\n",
        "df_9\n",
        "# Cross section\n",
        "# Take data from day 2\n",
        "df_9.xs('Day 2')\n",
        "# Calories of 1st meal\n",
        "df_9.xs(1, level='Meal')  "
      ],
      "execution_count": 46,
      "outputs": [
        {
          "output_type": "stream",
          "text": [
            "         Man  Woman\n",
            "Day 1 1  570    100\n",
            "      2  625    174\n",
            "      3  549    145\n",
            "Day 2 1  478    164\n",
            "      2  691    180\n",
            "      3  433    124\n"
          ],
          "name": "stdout"
        },
        {
          "output_type": "execute_result",
          "data": {
            "text/html": [
              "<div>\n",
              "<style scoped>\n",
              "    .dataframe tbody tr th:only-of-type {\n",
              "        vertical-align: middle;\n",
              "    }\n",
              "\n",
              "    .dataframe tbody tr th {\n",
              "        vertical-align: top;\n",
              "    }\n",
              "\n",
              "    .dataframe thead th {\n",
              "        text-align: right;\n",
              "    }\n",
              "</style>\n",
              "<table border=\"1\" class=\"dataframe\">\n",
              "  <thead>\n",
              "    <tr style=\"text-align: right;\">\n",
              "      <th></th>\n",
              "      <th>Man</th>\n",
              "      <th>Woman</th>\n",
              "    </tr>\n",
              "    <tr>\n",
              "      <th>Day</th>\n",
              "      <th></th>\n",
              "      <th></th>\n",
              "    </tr>\n",
              "  </thead>\n",
              "  <tbody>\n",
              "    <tr>\n",
              "      <th>Day 1</th>\n",
              "      <td>570</td>\n",
              "      <td>100</td>\n",
              "    </tr>\n",
              "    <tr>\n",
              "      <th>Day 2</th>\n",
              "      <td>478</td>\n",
              "      <td>164</td>\n",
              "    </tr>\n",
              "  </tbody>\n",
              "</table>\n",
              "</div>"
            ],
            "text/plain": [
              "       Man  Woman\n",
              "Day              \n",
              "Day 1  570    100\n",
              "Day 2  478    164"
            ]
          },
          "metadata": {
            "tags": []
          },
          "execution_count": 46
        }
      ]
    },
    {
      "cell_type": "markdown",
      "metadata": {
        "id": "ZXjyMp4Gkqee"
      },
      "source": [
        "**Handel Missing Data**"
      ]
    }
  ]
}